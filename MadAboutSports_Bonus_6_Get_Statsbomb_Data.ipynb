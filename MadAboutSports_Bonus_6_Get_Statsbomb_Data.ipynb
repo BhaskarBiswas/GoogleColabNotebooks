{
  "nbformat": 4,
  "nbformat_minor": 0,
  "metadata": {
    "colab": {
      "name": "Bonus_6_Get_Statsbomb_Data.ipynb",
      "provenance": [],
      "collapsed_sections": [],
      "include_colab_link": true
    },
    "kernelspec": {
      "name": "python3",
      "display_name": "Python 3"
    },
    "language_info": {
      "name": "python"
    }
  },
  "cells": [
    {
      "cell_type": "markdown",
      "metadata": {
        "id": "view-in-github",
        "colab_type": "text"
      },
      "source": [
        "<a href=\"https://colab.research.google.com/github/BhaskarBiswas/GoogleColabNotebooks/blob/main/MadAboutSports_Bonus_6_Get_Statsbomb_Data.ipynb\" target=\"_parent\"><img src=\"https://colab.research.google.com/assets/colab-badge.svg\" alt=\"Open In Colab\"/></a>"
      ]
    },
    {
      "cell_type": "markdown",
      "metadata": {
        "id": "eFgVvIztGtEe"
      },
      "source": [
        "# Get that Data!\n",
        "\n",
        "Scrape open-data via the Statsbomb Github repo"
      ]
    },
    {
      "cell_type": "markdown",
      "metadata": {
        "id": "BwfOlcsltofH"
      },
      "source": [
        "## Import libraries"
      ]
    },
    {
      "cell_type": "code",
      "metadata": {
        "id": "EcopnxDYGzGX"
      },
      "source": [
        "# Import required libraries:\n",
        "import requests\n",
        "import numpy as np\n",
        "import pandas as pd\n",
        "\n",
        "from google.colab import files"
      ],
      "execution_count": null,
      "outputs": []
    },
    {
      "cell_type": "markdown",
      "metadata": {
        "id": "FMoS1gRRu84e"
      },
      "source": [
        "## Set-up urls for extracting data from [StatsBomb Github repo](https://github.com/statsbomb/open-data)"
      ]
    },
    {
      "cell_type": "code",
      "metadata": {
        "id": "aPhtN9QMJm0u"
      },
      "source": [
        "scrape_url = \"https://raw.githubusercontent.com/statsbomb/open-data/master/data/\"\n",
        "comp_url = scrape_url + \"matches/{}/{}.json\"\n",
        "lineup_url = scrape_url + \"lineups/{}.json\"\n",
        "event_url = scrape_url + \"events/{}.json\""
      ],
      "execution_count": null,
      "outputs": []
    },
    {
      "cell_type": "code",
      "metadata": {
        "id": "QA0a5YvWuA4f"
      },
      "source": [
        "comp_url.format(11, 42)"
      ],
      "execution_count": null,
      "outputs": []
    },
    {
      "cell_type": "code",
      "metadata": {
        "id": "27mdmkZvYo84"
      },
      "source": [
        "scrape_url + \"matches/\" + str(43) + \"/\" + str(3) + \".json\""
      ],
      "execution_count": null,
      "outputs": []
    },
    {
      "cell_type": "code",
      "metadata": {
        "id": "FkG3UxwNulhn"
      },
      "source": [
        "event_url.format(15326)"
      ],
      "execution_count": null,
      "outputs": []
    },
    {
      "cell_type": "markdown",
      "metadata": {
        "id": "ljTLdl21uruq"
      },
      "source": [
        "## Competitions meta-data"
      ]
    },
    {
      "cell_type": "code",
      "metadata": {
        "id": "Nb4HvJtpaTLU"
      },
      "source": [
        "scrape_url"
      ],
      "execution_count": null,
      "outputs": []
    },
    {
      "cell_type": "code",
      "metadata": {
        "id": "eVY9ZFwOJzN8"
      },
      "source": [
        "# Get the relevant json file\n",
        "competitions_json = requests.get(url=scrape_url + \"competitions.json\").json()"
      ],
      "execution_count": null,
      "outputs": []
    },
    {
      "cell_type": "code",
      "metadata": {
        "id": "zxXy5_z2vKqq"
      },
      "source": [
        "type(competitions_json)"
      ],
      "execution_count": null,
      "outputs": []
    },
    {
      "cell_type": "code",
      "metadata": {
        "id": "NpO4CiCyKWzB"
      },
      "source": [
        "competitions_json[0]"
      ],
      "execution_count": null,
      "outputs": []
    },
    {
      "cell_type": "code",
      "metadata": {
        "id": "kWXF8PesKEvS"
      },
      "source": [
        "for comp in competitions_json:\n",
        "    print(comp[\"competition_name\"], comp[\"season_name\"])"
      ],
      "execution_count": null,
      "outputs": []
    },
    {
      "cell_type": "code",
      "metadata": {
        "id": "_ByoDHUsKFz2"
      },
      "source": [
        "pd.json_normalize(competitions_json)"
      ],
      "execution_count": null,
      "outputs": []
    },
    {
      "cell_type": "code",
      "metadata": {
        "id": "d3B6NBmsK8Er"
      },
      "source": [
        "sb_comp_meta_df = pd.json_normalize(competitions_json)"
      ],
      "execution_count": null,
      "outputs": []
    },
    {
      "cell_type": "code",
      "metadata": {
        "id": "2U4XHR2iKten"
      },
      "source": [
        "# Save data to csv file on your local system\n",
        "sb_comp_meta_df.to_csv('sb_competition_metadata.csv')\n",
        "files.download('sb_competition_metadata.csv')"
      ],
      "execution_count": null,
      "outputs": []
    },
    {
      "cell_type": "markdown",
      "metadata": {
        "id": "QnhcxVxzLDCa"
      },
      "source": [
        "## La-Liga Match Meta data for all seasons"
      ]
    },
    {
      "cell_type": "code",
      "metadata": {
        "id": "l-ZhIwzdcKXe"
      },
      "source": [
        "sb_comp_meta_df"
      ],
      "execution_count": null,
      "outputs": []
    },
    {
      "cell_type": "code",
      "metadata": {
        "id": "MyAYAePELSWS"
      },
      "source": [
        "comp_id = 43"
      ],
      "execution_count": null,
      "outputs": []
    },
    {
      "cell_type": "code",
      "metadata": {
        "id": "t-k36PUJLfXo"
      },
      "source": [
        "# Slice DF to obtain season ids for all seasons of La Liga:\n",
        "season_ids = sb_comp_meta_df.loc[sb_comp_meta_df[\"competition_id\"] == comp_id, \"season_id\"].to_list()"
      ],
      "execution_count": null,
      "outputs": []
    },
    {
      "cell_type": "code",
      "metadata": {
        "id": "u7edkNqmcq8G"
      },
      "source": [
        "sb_comp_meta_df.loc[sb_comp_meta_df[\"competition_id\"] == comp_id, \"season_id\"]"
      ],
      "execution_count": null,
      "outputs": []
    },
    {
      "cell_type": "code",
      "metadata": {
        "id": "watEDLPtLuCM"
      },
      "source": [
        "season_ids"
      ],
      "execution_count": null,
      "outputs": []
    },
    {
      "cell_type": "code",
      "metadata": {
        "id": "mEzw99oHc7G3"
      },
      "source": [
        "comp_url"
      ],
      "execution_count": null,
      "outputs": []
    },
    {
      "cell_type": "code",
      "metadata": {
        "id": "cgeezbsJLuvK"
      },
      "source": [
        "season_meta_data_df = pd.DataFrame()\n",
        "for s_id in season_ids:\n",
        "    season_json = requests.get(url=comp_url.format(comp_id, s_id)).json()\n",
        "    df = pd.json_normalize(season_json)\n",
        "    season_meta_data_df = season_meta_data_df.append(df)"
      ],
      "execution_count": null,
      "outputs": []
    },
    {
      "cell_type": "code",
      "metadata": {
        "id": "TA4AVpa8dR9J"
      },
      "source": [
        "season_meta_data_df.columns"
      ],
      "execution_count": null,
      "outputs": []
    },
    {
      "cell_type": "code",
      "metadata": {
        "id": "QrQz3PIEMWBZ"
      },
      "source": [
        "season_meta_data_df[\"season.season_id\"].unique()"
      ],
      "execution_count": null,
      "outputs": []
    },
    {
      "cell_type": "code",
      "metadata": {
        "id": "dFNtR8vLwdAv"
      },
      "source": [
        "season_meta_data_df.columns"
      ],
      "execution_count": null,
      "outputs": []
    },
    {
      "cell_type": "code",
      "metadata": {
        "id": "APoCWGwKMX4M"
      },
      "source": [
        "season_meta_data_df.head()"
      ],
      "execution_count": null,
      "outputs": []
    },
    {
      "cell_type": "code",
      "metadata": {
        "id": "KoBEbHhoy3OH"
      },
      "source": [
        "season_meta_data_df.groupby([\"season.season_id\"])[\"match_id\"].count()"
      ],
      "execution_count": null,
      "outputs": []
    },
    {
      "cell_type": "code",
      "metadata": {
        "id": "gXQglXwB0pt4"
      },
      "source": [
        "# Save data to csv file on your local system\n",
        "season_meta_data_df.to_csv('season_matchwise_data.csv')\n",
        "files.download('season_matchwise_data.csv')"
      ],
      "execution_count": null,
      "outputs": []
    },
    {
      "cell_type": "markdown",
      "metadata": {
        "id": "_H_QM73_Rf2p"
      },
      "source": [
        "## Event data for one match in La-Liga"
      ]
    },
    {
      "cell_type": "code",
      "metadata": {
        "id": "sLuelOrnxGGA"
      },
      "source": [
        "match_id_list = season_meta_data_df[\"match_id\"].unique()"
      ],
      "execution_count": null,
      "outputs": []
    },
    {
      "cell_type": "code",
      "metadata": {
        "id": "HbVE9R_nR4Gm"
      },
      "source": [
        "event_json = requests.get(url=event_url.format(match_id_list[0])).json()"
      ],
      "execution_count": null,
      "outputs": []
    },
    {
      "cell_type": "code",
      "metadata": {
        "id": "hvbVAs52fjBo"
      },
      "source": [
        "event_json"
      ],
      "execution_count": null,
      "outputs": []
    },
    {
      "cell_type": "code",
      "metadata": {
        "id": "GQyJTIfrR-tU"
      },
      "source": [
        "pd.json_normalize(event_json)"
      ],
      "execution_count": null,
      "outputs": []
    },
    {
      "cell_type": "code",
      "metadata": {
        "id": "2aArVO3eSAyN"
      },
      "source": [
        "event_df = pd.json_normalize(event_json)"
      ],
      "execution_count": null,
      "outputs": []
    },
    {
      "cell_type": "code",
      "metadata": {
        "id": "Y2Zu4kXrSLro"
      },
      "source": [
        "event_df.columns.values"
      ],
      "execution_count": null,
      "outputs": []
    },
    {
      "cell_type": "code",
      "metadata": {
        "id": "aAkNe5jgSNpc"
      },
      "source": [
        "event_df[\"type.name\"].unique()"
      ],
      "execution_count": null,
      "outputs": []
    },
    {
      "cell_type": "markdown",
      "metadata": {
        "id": "AsaBOC_1xiis"
      },
      "source": [
        "## Event data for La Liga 2019-20"
      ]
    },
    {
      "cell_type": "code",
      "metadata": {
        "id": "x9G-GBs9xnGc"
      },
      "source": [
        "match_id_list = season_meta_data_df.loc[season_meta_data_df[\"season.season_id\"] == 3, \"match_id\"].unique()"
      ],
      "execution_count": null,
      "outputs": []
    },
    {
      "cell_type": "code",
      "metadata": {
        "id": "a0VNFUT0UjlD"
      },
      "source": [
        "match_id_list"
      ],
      "execution_count": null,
      "outputs": []
    },
    {
      "cell_type": "code",
      "metadata": {
        "id": "CIPrX5thSSbN"
      },
      "source": [
        "matchwise_events_df = pd.DataFrame()\n",
        "for m_id in match_id_list:\n",
        "    print(\"Working on\", m_id)\n",
        "    event_json = requests.get(url=event_url.format(m_id)).json()\n",
        "    df = pd.json_normalize(event_json)\n",
        "    df.insert(0, \"match_id\", m_id)\n",
        "    matchwise_events_df = matchwise_events_df.append(df)"
      ],
      "execution_count": null,
      "outputs": []
    },
    {
      "cell_type": "code",
      "metadata": {
        "id": "dV9gfAWxU3GH"
      },
      "source": [
        "matchwise_events_df.head()"
      ],
      "execution_count": null,
      "outputs": []
    },
    {
      "cell_type": "code",
      "metadata": {
        "id": "ZyBC3GJ7yymD"
      },
      "source": [
        "# Save data to csv file on your local system\n",
        "matchwise_events_df.to_csv('matchwise_events_data.csv')\n",
        "files.download('matchwise_events_data.csv')"
      ],
      "execution_count": null,
      "outputs": []
    },
    {
      "cell_type": "code",
      "metadata": {
        "id": "7cY57nNohmXf"
      },
      "source": [
        "matchwise_events_df.shape"
      ],
      "execution_count": null,
      "outputs": []
    },
    {
      "cell_type": "code",
      "metadata": {
        "id": "mkjW7xJYhqVl"
      },
      "source": [
        ""
      ],
      "execution_count": null,
      "outputs": []
    }
  ]
}